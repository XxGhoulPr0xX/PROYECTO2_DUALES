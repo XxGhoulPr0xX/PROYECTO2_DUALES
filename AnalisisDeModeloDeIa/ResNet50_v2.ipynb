{
  "nbformat": 4,
  "nbformat_minor": 0,
  "metadata": {
    "colab": {
      "provenance": [],
      "gpuType": "T4"
    },
    "kernelspec": {
      "name": "python3",
      "display_name": "Python 3"
    },
    "language_info": {
      "name": "python"
    },
    "accelerator": "GPU"
  },
  "cells": [
    {
      "cell_type": "markdown",
      "source": [
        "## Paqueterías:"
      ],
      "metadata": {
        "id": "c1hSoEkIX2lJ"
      }
    },
    {
      "cell_type": "code",
      "source": [
        "import tensorflow as tf\n",
        "from tensorflow.keras.applications import ResNet50\n",
        "from tensorflow.keras.layers import Dense, Dropout, GlobalAveragePooling2D, BatchNormalization\n",
        "from tensorflow.keras.models import Model\n",
        "from tensorflow.keras.preprocessing.image import ImageDataGenerator\n",
        "from tensorflow.keras.optimizers import Adam\n",
        "from tensorflow.keras.callbacks import ModelCheckpoint, ReduceLROnPlateau, EarlyStopping\n",
        "from tensorflow.keras.applications.resnet50 import preprocess_input\n",
        "from tensorflow.keras.models import load_model\n",
        "\n",
        "import os\n",
        "import matplotlib.pyplot as plt\n",
        "import pandas as pd\n",
        "import numpy as np\n",
        "import seaborn as sns\n",
        "import kagglehub\n",
        "import shutil\n",
        "import os\n",
        "\n",
        "from sklearn.metrics import precision_score, recall_score, accuracy_score, f1_score\n",
        "from sklearn.metrics import roc_curve, auc, roc_auc_score\n",
        "from sklearn.metrics import confusion_matrix\n",
        "from sklearn.utils import class_weight\n",
        "\n"
      ],
      "metadata": {
        "id": "8Pb-Jg-IX1AU"
      },
      "execution_count": null,
      "outputs": []
    },
    {
      "cell_type": "markdown",
      "source": [
        "## Descarga dataset"
      ],
      "metadata": {
        "id": "o-tZBMX4YDun"
      }
    },
    {
      "cell_type": "code",
      "source": [
        "download_path = kagglehub.dataset_download(\"rayhanzamzamy/non-and-biodegradable-waste-dataset\")\n",
        "print(\"Path to downloaded files:\", download_path)\n",
        "\n",
        "dataset_dir = os.path.join(os.getcwd(), \"dataset\")\n",
        "os.makedirs(dataset_dir, exist_ok=True)\n",
        "\n",
        "for item in os.listdir(download_path):\n",
        "    source = os.path.join(download_path, item)\n",
        "    destination = os.path.join(dataset_dir, item)\n",
        "    if os.path.isdir(source):\n",
        "        shutil.copytree(source, destination, dirs_exist_ok=True)\n",
        "    else:\n",
        "        shutil.copy2(source, destination)\n",
        "\n",
        "shutil.rmtree(download_path)\n",
        "\n",
        "print(f\"Todo el contenido se ha movido a: {dataset_dir}\")"
      ],
      "metadata": {
        "colab": {
          "base_uri": "https://localhost:8080/"
        },
        "id": "RgjbZzQ0OHxG",
        "outputId": "1df70fa9-edb9-401d-8006-59a347f2774e"
      },
      "execution_count": null,
      "outputs": [
        {
          "output_type": "stream",
          "name": "stdout",
          "text": [
            "Downloading from https://www.kaggle.com/api/v1/datasets/download/rayhanzamzamy/non-and-biodegradable-waste-dataset?dataset_version_number=2...\n"
          ]
        },
        {
          "output_type": "stream",
          "name": "stderr",
          "text": [
            "100%|██████████| 1.86G/1.86G [00:15<00:00, 133MB/s]"
          ]
        },
        {
          "output_type": "stream",
          "name": "stdout",
          "text": [
            "Extracting files...\n"
          ]
        },
        {
          "output_type": "stream",
          "name": "stderr",
          "text": [
            "\n"
          ]
        },
        {
          "output_type": "stream",
          "name": "stdout",
          "text": [
            "Path to downloaded files: /root/.cache/kagglehub/datasets/rayhanzamzamy/non-and-biodegradable-waste-dataset/versions/2\n",
            "Todo el contenido se ha movido a: /content/dataset\n"
          ]
        }
      ]
    },
    {
      "cell_type": "markdown",
      "source": [
        "## Creación de dataframe"
      ],
      "metadata": {
        "id": "P95G3YwPYMU4"
      }
    },
    {
      "cell_type": "code",
      "source": [
        "base_dir = '/content/dataset'\n",
        "train_dirs = [os.path.join(base_dir, f'TRAIN.{i}') for i in range(1, 5)]\n",
        "\n",
        "def create_dataframe(train_dirs):\n",
        "    image_paths = []\n",
        "    labels = []\n",
        "    for train_dir in train_dirs:\n",
        "        for class_name in ['B', 'N']:\n",
        "            class_dir = os.path.join(train_dir, class_name)\n",
        "            if not os.path.exists(class_dir):\n",
        "                continue\n",
        "            for root, _, files in os.walk(class_dir):\n",
        "                for file in files:\n",
        "                    if file.lower().endswith(('.png', '.jpg', '.jpeg')):\n",
        "                        img_path = os.path.join(root, file)\n",
        "                        image_paths.append(img_path)\n",
        "                        labels.append(class_name)\n",
        "    return pd.DataFrame({'filename': image_paths, 'class': labels})\n",
        "\n",
        "train_df = create_dataframe(train_dirs)"
      ],
      "metadata": {
        "id": "jUp21pYxWgI_"
      },
      "execution_count": null,
      "outputs": []
    },
    {
      "cell_type": "code",
      "source": [
        "#Comprobación de creación del dataset\n",
        "train_df.head()"
      ],
      "metadata": {
        "colab": {
          "base_uri": "https://localhost:8080/",
          "height": 206
        },
        "id": "n42IEOdVXn44",
        "outputId": "7fea1eb2-1795-45ca-c4ec-a802aa7a8ac6"
      },
      "execution_count": null,
      "outputs": [
        {
          "output_type": "execute_result",
          "data": {
            "text/plain": [
              "                                            filename class\n",
              "0  /content/dataset/TRAIN.1/B/TRAIN.1_BIODEG_ORI_...     B\n",
              "1  /content/dataset/TRAIN.1/B/TRAIN.1_BIODEG_ORI_...     B\n",
              "2  /content/dataset/TRAIN.1/B/TRAIN.1_BIODEG_ORI_...     B\n",
              "3  /content/dataset/TRAIN.1/B/TRAIN.1_BIODEG_ORI_...     B\n",
              "4  /content/dataset/TRAIN.1/B/TRAIN.1_BIODEG_ORI_...     B"
            ],
            "text/html": [
              "\n",
              "  <div id=\"df-7810bed1-af98-47ab-b96c-92be15632c85\" class=\"colab-df-container\">\n",
              "    <div>\n",
              "<style scoped>\n",
              "    .dataframe tbody tr th:only-of-type {\n",
              "        vertical-align: middle;\n",
              "    }\n",
              "\n",
              "    .dataframe tbody tr th {\n",
              "        vertical-align: top;\n",
              "    }\n",
              "\n",
              "    .dataframe thead th {\n",
              "        text-align: right;\n",
              "    }\n",
              "</style>\n",
              "<table border=\"1\" class=\"dataframe\">\n",
              "  <thead>\n",
              "    <tr style=\"text-align: right;\">\n",
              "      <th></th>\n",
              "      <th>filename</th>\n",
              "      <th>class</th>\n",
              "    </tr>\n",
              "  </thead>\n",
              "  <tbody>\n",
              "    <tr>\n",
              "      <th>0</th>\n",
              "      <td>/content/dataset/TRAIN.1/B/TRAIN.1_BIODEG_ORI_...</td>\n",
              "      <td>B</td>\n",
              "    </tr>\n",
              "    <tr>\n",
              "      <th>1</th>\n",
              "      <td>/content/dataset/TRAIN.1/B/TRAIN.1_BIODEG_ORI_...</td>\n",
              "      <td>B</td>\n",
              "    </tr>\n",
              "    <tr>\n",
              "      <th>2</th>\n",
              "      <td>/content/dataset/TRAIN.1/B/TRAIN.1_BIODEG_ORI_...</td>\n",
              "      <td>B</td>\n",
              "    </tr>\n",
              "    <tr>\n",
              "      <th>3</th>\n",
              "      <td>/content/dataset/TRAIN.1/B/TRAIN.1_BIODEG_ORI_...</td>\n",
              "      <td>B</td>\n",
              "    </tr>\n",
              "    <tr>\n",
              "      <th>4</th>\n",
              "      <td>/content/dataset/TRAIN.1/B/TRAIN.1_BIODEG_ORI_...</td>\n",
              "      <td>B</td>\n",
              "    </tr>\n",
              "  </tbody>\n",
              "</table>\n",
              "</div>\n",
              "    <div class=\"colab-df-buttons\">\n",
              "\n",
              "  <div class=\"colab-df-container\">\n",
              "    <button class=\"colab-df-convert\" onclick=\"convertToInteractive('df-7810bed1-af98-47ab-b96c-92be15632c85')\"\n",
              "            title=\"Convert this dataframe to an interactive table.\"\n",
              "            style=\"display:none;\">\n",
              "\n",
              "  <svg xmlns=\"http://www.w3.org/2000/svg\" height=\"24px\" viewBox=\"0 -960 960 960\">\n",
              "    <path d=\"M120-120v-720h720v720H120Zm60-500h600v-160H180v160Zm220 220h160v-160H400v160Zm0 220h160v-160H400v160ZM180-400h160v-160H180v160Zm440 0h160v-160H620v160ZM180-180h160v-160H180v160Zm440 0h160v-160H620v160Z\"/>\n",
              "  </svg>\n",
              "    </button>\n",
              "\n",
              "  <style>\n",
              "    .colab-df-container {\n",
              "      display:flex;\n",
              "      gap: 12px;\n",
              "    }\n",
              "\n",
              "    .colab-df-convert {\n",
              "      background-color: #E8F0FE;\n",
              "      border: none;\n",
              "      border-radius: 50%;\n",
              "      cursor: pointer;\n",
              "      display: none;\n",
              "      fill: #1967D2;\n",
              "      height: 32px;\n",
              "      padding: 0 0 0 0;\n",
              "      width: 32px;\n",
              "    }\n",
              "\n",
              "    .colab-df-convert:hover {\n",
              "      background-color: #E2EBFA;\n",
              "      box-shadow: 0px 1px 2px rgba(60, 64, 67, 0.3), 0px 1px 3px 1px rgba(60, 64, 67, 0.15);\n",
              "      fill: #174EA6;\n",
              "    }\n",
              "\n",
              "    .colab-df-buttons div {\n",
              "      margin-bottom: 4px;\n",
              "    }\n",
              "\n",
              "    [theme=dark] .colab-df-convert {\n",
              "      background-color: #3B4455;\n",
              "      fill: #D2E3FC;\n",
              "    }\n",
              "\n",
              "    [theme=dark] .colab-df-convert:hover {\n",
              "      background-color: #434B5C;\n",
              "      box-shadow: 0px 1px 3px 1px rgba(0, 0, 0, 0.15);\n",
              "      filter: drop-shadow(0px 1px 2px rgba(0, 0, 0, 0.3));\n",
              "      fill: #FFFFFF;\n",
              "    }\n",
              "  </style>\n",
              "\n",
              "    <script>\n",
              "      const buttonEl =\n",
              "        document.querySelector('#df-7810bed1-af98-47ab-b96c-92be15632c85 button.colab-df-convert');\n",
              "      buttonEl.style.display =\n",
              "        google.colab.kernel.accessAllowed ? 'block' : 'none';\n",
              "\n",
              "      async function convertToInteractive(key) {\n",
              "        const element = document.querySelector('#df-7810bed1-af98-47ab-b96c-92be15632c85');\n",
              "        const dataTable =\n",
              "          await google.colab.kernel.invokeFunction('convertToInteractive',\n",
              "                                                    [key], {});\n",
              "        if (!dataTable) return;\n",
              "\n",
              "        const docLinkHtml = 'Like what you see? Visit the ' +\n",
              "          '<a target=\"_blank\" href=https://colab.research.google.com/notebooks/data_table.ipynb>data table notebook</a>'\n",
              "          + ' to learn more about interactive tables.';\n",
              "        element.innerHTML = '';\n",
              "        dataTable['output_type'] = 'display_data';\n",
              "        await google.colab.output.renderOutput(dataTable, element);\n",
              "        const docLink = document.createElement('div');\n",
              "        docLink.innerHTML = docLinkHtml;\n",
              "        element.appendChild(docLink);\n",
              "      }\n",
              "    </script>\n",
              "  </div>\n",
              "\n",
              "\n",
              "    <div id=\"df-35732612-27e8-444b-80aa-93c258e531da\">\n",
              "      <button class=\"colab-df-quickchart\" onclick=\"quickchart('df-35732612-27e8-444b-80aa-93c258e531da')\"\n",
              "                title=\"Suggest charts\"\n",
              "                style=\"display:none;\">\n",
              "\n",
              "<svg xmlns=\"http://www.w3.org/2000/svg\" height=\"24px\"viewBox=\"0 0 24 24\"\n",
              "     width=\"24px\">\n",
              "    <g>\n",
              "        <path d=\"M19 3H5c-1.1 0-2 .9-2 2v14c0 1.1.9 2 2 2h14c1.1 0 2-.9 2-2V5c0-1.1-.9-2-2-2zM9 17H7v-7h2v7zm4 0h-2V7h2v10zm4 0h-2v-4h2v4z\"/>\n",
              "    </g>\n",
              "</svg>\n",
              "      </button>\n",
              "\n",
              "<style>\n",
              "  .colab-df-quickchart {\n",
              "      --bg-color: #E8F0FE;\n",
              "      --fill-color: #1967D2;\n",
              "      --hover-bg-color: #E2EBFA;\n",
              "      --hover-fill-color: #174EA6;\n",
              "      --disabled-fill-color: #AAA;\n",
              "      --disabled-bg-color: #DDD;\n",
              "  }\n",
              "\n",
              "  [theme=dark] .colab-df-quickchart {\n",
              "      --bg-color: #3B4455;\n",
              "      --fill-color: #D2E3FC;\n",
              "      --hover-bg-color: #434B5C;\n",
              "      --hover-fill-color: #FFFFFF;\n",
              "      --disabled-bg-color: #3B4455;\n",
              "      --disabled-fill-color: #666;\n",
              "  }\n",
              "\n",
              "  .colab-df-quickchart {\n",
              "    background-color: var(--bg-color);\n",
              "    border: none;\n",
              "    border-radius: 50%;\n",
              "    cursor: pointer;\n",
              "    display: none;\n",
              "    fill: var(--fill-color);\n",
              "    height: 32px;\n",
              "    padding: 0;\n",
              "    width: 32px;\n",
              "  }\n",
              "\n",
              "  .colab-df-quickchart:hover {\n",
              "    background-color: var(--hover-bg-color);\n",
              "    box-shadow: 0 1px 2px rgba(60, 64, 67, 0.3), 0 1px 3px 1px rgba(60, 64, 67, 0.15);\n",
              "    fill: var(--button-hover-fill-color);\n",
              "  }\n",
              "\n",
              "  .colab-df-quickchart-complete:disabled,\n",
              "  .colab-df-quickchart-complete:disabled:hover {\n",
              "    background-color: var(--disabled-bg-color);\n",
              "    fill: var(--disabled-fill-color);\n",
              "    box-shadow: none;\n",
              "  }\n",
              "\n",
              "  .colab-df-spinner {\n",
              "    border: 2px solid var(--fill-color);\n",
              "    border-color: transparent;\n",
              "    border-bottom-color: var(--fill-color);\n",
              "    animation:\n",
              "      spin 1s steps(1) infinite;\n",
              "  }\n",
              "\n",
              "  @keyframes spin {\n",
              "    0% {\n",
              "      border-color: transparent;\n",
              "      border-bottom-color: var(--fill-color);\n",
              "      border-left-color: var(--fill-color);\n",
              "    }\n",
              "    20% {\n",
              "      border-color: transparent;\n",
              "      border-left-color: var(--fill-color);\n",
              "      border-top-color: var(--fill-color);\n",
              "    }\n",
              "    30% {\n",
              "      border-color: transparent;\n",
              "      border-left-color: var(--fill-color);\n",
              "      border-top-color: var(--fill-color);\n",
              "      border-right-color: var(--fill-color);\n",
              "    }\n",
              "    40% {\n",
              "      border-color: transparent;\n",
              "      border-right-color: var(--fill-color);\n",
              "      border-top-color: var(--fill-color);\n",
              "    }\n",
              "    60% {\n",
              "      border-color: transparent;\n",
              "      border-right-color: var(--fill-color);\n",
              "    }\n",
              "    80% {\n",
              "      border-color: transparent;\n",
              "      border-right-color: var(--fill-color);\n",
              "      border-bottom-color: var(--fill-color);\n",
              "    }\n",
              "    90% {\n",
              "      border-color: transparent;\n",
              "      border-bottom-color: var(--fill-color);\n",
              "    }\n",
              "  }\n",
              "</style>\n",
              "\n",
              "      <script>\n",
              "        async function quickchart(key) {\n",
              "          const quickchartButtonEl =\n",
              "            document.querySelector('#' + key + ' button');\n",
              "          quickchartButtonEl.disabled = true;  // To prevent multiple clicks.\n",
              "          quickchartButtonEl.classList.add('colab-df-spinner');\n",
              "          try {\n",
              "            const charts = await google.colab.kernel.invokeFunction(\n",
              "                'suggestCharts', [key], {});\n",
              "          } catch (error) {\n",
              "            console.error('Error during call to suggestCharts:', error);\n",
              "          }\n",
              "          quickchartButtonEl.classList.remove('colab-df-spinner');\n",
              "          quickchartButtonEl.classList.add('colab-df-quickchart-complete');\n",
              "        }\n",
              "        (() => {\n",
              "          let quickchartButtonEl =\n",
              "            document.querySelector('#df-35732612-27e8-444b-80aa-93c258e531da button');\n",
              "          quickchartButtonEl.style.display =\n",
              "            google.colab.kernel.accessAllowed ? 'block' : 'none';\n",
              "        })();\n",
              "      </script>\n",
              "    </div>\n",
              "\n",
              "    </div>\n",
              "  </div>\n"
            ],
            "application/vnd.google.colaboratory.intrinsic+json": {
              "type": "dataframe",
              "variable_name": "train_df"
            }
          },
          "metadata": {},
          "execution_count": 4
        }
      ]
    },
    {
      "cell_type": "code",
      "source": [
        "#Comprobación en balanceo de clases\n",
        "train_df['class'].value_counts()"
      ],
      "metadata": {
        "colab": {
          "base_uri": "https://localhost:8080/",
          "height": 178
        },
        "id": "_Y6Vd_gcfkV9",
        "outputId": "1c3acd0e-36f3-4b39-f493-e9ca4b3e0125"
      },
      "execution_count": null,
      "outputs": [
        {
          "output_type": "execute_result",
          "data": {
            "text/plain": [
              "class\n",
              "B    119845\n",
              "N    119845\n",
              "Name: count, dtype: int64"
            ],
            "text/html": [
              "<div>\n",
              "<style scoped>\n",
              "    .dataframe tbody tr th:only-of-type {\n",
              "        vertical-align: middle;\n",
              "    }\n",
              "\n",
              "    .dataframe tbody tr th {\n",
              "        vertical-align: top;\n",
              "    }\n",
              "\n",
              "    .dataframe thead th {\n",
              "        text-align: right;\n",
              "    }\n",
              "</style>\n",
              "<table border=\"1\" class=\"dataframe\">\n",
              "  <thead>\n",
              "    <tr style=\"text-align: right;\">\n",
              "      <th></th>\n",
              "      <th>count</th>\n",
              "    </tr>\n",
              "    <tr>\n",
              "      <th>class</th>\n",
              "      <th></th>\n",
              "    </tr>\n",
              "  </thead>\n",
              "  <tbody>\n",
              "    <tr>\n",
              "      <th>B</th>\n",
              "      <td>119845</td>\n",
              "    </tr>\n",
              "    <tr>\n",
              "      <th>N</th>\n",
              "      <td>119845</td>\n",
              "    </tr>\n",
              "  </tbody>\n",
              "</table>\n",
              "</div><br><label><b>dtype:</b> int64</label>"
            ]
          },
          "metadata": {},
          "execution_count": 5
        }
      ]
    },
    {
      "cell_type": "markdown",
      "source": [
        "## Entrenamiento"
      ],
      "metadata": {
        "id": "GGbxEd4eYOJi"
      }
    },
    {
      "cell_type": "code",
      "execution_count": null,
      "metadata": {
        "colab": {
          "base_uri": "https://localhost:8080/"
        },
        "id": "UKqoDLw0NKU_",
        "outputId": "f8c8650c-5070-4704-e2b0-1818deb60041"
      },
      "outputs": [
        {
          "output_type": "stream",
          "name": "stdout",
          "text": [
            "Found 191752 validated image filenames belonging to 2 classes.\n",
            "Found 47938 validated image filenames belonging to 2 classes.\n",
            "Downloading data from https://storage.googleapis.com/tensorflow/keras-applications/resnet/resnet50_weights_tf_dim_ordering_tf_kernels_notop.h5\n",
            "\u001b[1m94765736/94765736\u001b[0m \u001b[32m━━━━━━━━━━━━━━━━━━━━\u001b[0m\u001b[37m\u001b[0m \u001b[1m0s\u001b[0m 0us/step\n"
          ]
        },
        {
          "output_type": "stream",
          "name": "stderr",
          "text": [
            "/usr/local/lib/python3.11/dist-packages/keras/src/trainers/data_adapters/py_dataset_adapter.py:121: UserWarning: Your `PyDataset` class should call `super().__init__(**kwargs)` in its constructor. `**kwargs` can include `workers`, `use_multiprocessing`, `max_queue_size`. Do not pass these arguments to `fit()`, as they will be ignored.\n",
            "  self._warn_if_super_not_called()\n"
          ]
        },
        {
          "output_type": "stream",
          "name": "stdout",
          "text": [
            "Epoch 1/25\n",
            "\u001b[1m5993/5993\u001b[0m \u001b[32m━━━━━━━━━━━━━━━━━━━━\u001b[0m\u001b[37m\u001b[0m \u001b[1m0s\u001b[0m 496ms/step - accuracy: 0.9611 - loss: 0.1096"
          ]
        },
        {
          "output_type": "stream",
          "name": "stderr",
          "text": [
            "/usr/local/lib/python3.11/dist-packages/keras/src/trainers/data_adapters/py_dataset_adapter.py:121: UserWarning: Your `PyDataset` class should call `super().__init__(**kwargs)` in its constructor. `**kwargs` can include `workers`, `use_multiprocessing`, `max_queue_size`. Do not pass these arguments to `fit()`, as they will be ignored.\n",
            "  self._warn_if_super_not_called()\n"
          ]
        },
        {
          "output_type": "stream",
          "name": "stdout",
          "text": [
            "\b\b\b\b\b\b\b\b\b\b\b\b\b\b\b\b\b\b\b\b\b\b\b\b\b\b\b\b\b\b\b\b\b\b\b\b\b\b\b\b\b\b\b\b\b\b\b\b\b\b\b\b\b\b\b\b\b\b\b\b\b\b\b\b\b\b\b\b\b\b\b\b\b\b\b\b\b\b\r\u001b[1m5993/5993\u001b[0m \u001b[32m━━━━━━━━━━━━━━━━━━━━\u001b[0m\u001b[37m\u001b[0m \u001b[1m3726s\u001b[0m 616ms/step - accuracy: 0.9611 - loss: 0.1096 - val_accuracy: 0.9796 - val_loss: 0.0563 - learning_rate: 1.0000e-04\n",
            "Epoch 2/25\n",
            "\u001b[1m5993/5993\u001b[0m \u001b[32m━━━━━━━━━━━━━━━━━━━━\u001b[0m\u001b[37m\u001b[0m \u001b[1m3646s\u001b[0m 608ms/step - accuracy: 0.9816 - loss: 0.0543 - val_accuracy: 0.9848 - val_loss: 0.0439 - learning_rate: 1.0000e-04\n",
            "Epoch 3/25\n",
            "\u001b[1m5993/5993\u001b[0m \u001b[32m━━━━━━━━━━━━━━━━━━━━\u001b[0m\u001b[37m\u001b[0m \u001b[1m3581s\u001b[0m 597ms/step - accuracy: 0.9868 - loss: 0.0401 - val_accuracy: 0.9862 - val_loss: 0.0411 - learning_rate: 1.0000e-04\n",
            "Epoch 4/25\n",
            "\u001b[1m5993/5993\u001b[0m \u001b[32m━━━━━━━━━━━━━━━━━━━━\u001b[0m\u001b[37m\u001b[0m \u001b[1m3661s\u001b[0m 604ms/step - accuracy: 0.9888 - loss: 0.0338 - val_accuracy: 0.9879 - val_loss: 0.0347 - learning_rate: 1.0000e-04\n",
            "Epoch 5/25\n",
            "\u001b[1m5993/5993\u001b[0m \u001b[32m━━━━━━━━━━━━━━━━━━━━\u001b[0m\u001b[37m\u001b[0m \u001b[1m3565s\u001b[0m 595ms/step - accuracy: 0.9911 - loss: 0.0267 - val_accuracy: 0.9879 - val_loss: 0.0353 - learning_rate: 1.0000e-04\n",
            "Epoch 6/25\n",
            "\u001b[1m3269/5993\u001b[0m \u001b[32m━━━━━━━━━━\u001b[0m\u001b[37m━━━━━━━━━━\u001b[0m \u001b[1m21:33\u001b[0m 475ms/step - accuracy: 0.9919 - loss: 0.0248"
          ]
        }
      ],
      "source": [
        "# ====================== DATA PREPARATION ======================\n",
        "# Balanceo con pesos\n",
        "class_weights = class_weight.compute_class_weight('balanced',\n",
        "                                                  classes=np.unique(train_df['class']),\n",
        "                                                  y=train_df['class'])\n",
        "class_weights = dict(enumerate(class_weights))\n",
        "\n",
        "# ====================== DATA GENERATORS ======================\n",
        "train_datagen = ImageDataGenerator(\n",
        "    preprocessing_function=preprocess_input,\n",
        "    validation_split=0.2,\n",
        "    horizontal_flip=True,\n",
        "    rotation_range=25,\n",
        "    width_shift_range=0.15,\n",
        "    height_shift_range=0.15,\n",
        "    zoom_range=0.2,\n",
        "    brightness_range=[0.8, 1.2],\n",
        "    fill_mode='nearest'\n",
        ")\n",
        "\n",
        "train_gen = train_datagen.flow_from_dataframe(\n",
        "    dataframe=train_df,\n",
        "    x_col='filename',\n",
        "    y_col='class',\n",
        "    target_size=(224, 224),\n",
        "    color_mode='rgb',\n",
        "    batch_size=32,\n",
        "    class_mode='categorical',\n",
        "    shuffle=True,\n",
        "    seed=42,\n",
        "    subset='training'\n",
        ")\n",
        "\n",
        "val_gen = train_datagen.flow_from_dataframe(\n",
        "    dataframe=train_df,\n",
        "    x_col='filename',\n",
        "    y_col='class',\n",
        "    target_size=(224, 224),\n",
        "    color_mode='rgb',\n",
        "    batch_size=32,\n",
        "    class_mode='categorical',\n",
        "    shuffle=False,\n",
        "    seed=42,\n",
        "    subset='validation'\n",
        ")\n",
        "\n",
        "# ====================== MODEL ARCHITECTURE ======================\n",
        "def build_resnet():\n",
        "    base = ResNet50(weights='imagenet', include_top=False, input_shape=(224, 224, 3))\n",
        "    for layer in base.layers[:140]:\n",
        "        layer.trainable = False\n",
        "    for layer in base.layers[140:]:\n",
        "        layer.trainable = True\n",
        "\n",
        "    x = base.output\n",
        "    x = GlobalAveragePooling2D()(x)\n",
        "    x = BatchNormalization()(x)\n",
        "    x = Dense(512, activation='relu')(x)\n",
        "    x = Dropout(0.5)(x)\n",
        "    x = BatchNormalization()(x)\n",
        "    x = Dense(256, activation='relu')(x)\n",
        "    x = Dropout(0.4)(x)\n",
        "    predictions = Dense(2, activation='softmax')(x)\n",
        "\n",
        "    model = Model(inputs=base.input, outputs=predictions)\n",
        "    model.compile(optimizer=Adam(learning_rate=1e-4),\n",
        "                  loss='categorical_crossentropy',\n",
        "                  metrics=['accuracy'])\n",
        "    return model\n",
        "\n",
        "model = build_resnet()\n",
        "\n",
        "# Callbacks\n",
        "checkpoint = ModelCheckpoint('predictWaste12.h5',monitor='val_loss',save_best_only=True,mode='min',verbose=1)\n",
        "lr_scheduler = ReduceLROnPlateau(monitor='val_loss', factor=0.5, patience=2, verbose=1)\n",
        "early_stop = EarlyStopping(monitor='val_loss', patience=3, restore_best_weights=True)\n",
        "\n",
        "# ====================== TRAINING ======================\n",
        "history = model.fit(\n",
        "    train_gen,\n",
        "    steps_per_epoch=len(train_gen),\n",
        "    validation_data=val_gen,\n",
        "    validation_steps=len(val_gen),\n",
        "    epochs=25,\n",
        "    class_weight=class_weights,\n",
        "    callbacks=[checkpoint, lr_scheduler, early_stop],\n",
        "    verbose=1\n",
        ")"
      ]
    },
    {
      "cell_type": "markdown",
      "source": [
        "## Pruebas:"
      ],
      "metadata": {
        "id": "o_k02qK2YRii"
      }
    },
    {
      "cell_type": "markdown",
      "source": [
        "### Carga del modelo:"
      ],
      "metadata": {
        "id": "02hDoJqaYybs"
      }
    },
    {
      "cell_type": "code",
      "source": [
        "model = load_model('/content/drive/MyDrive/Modelos/predictWaste12.h5')"
      ],
      "metadata": {
        "colab": {
          "base_uri": "https://localhost:8080/"
        },
        "id": "rAzd2ao_QaVt",
        "outputId": "edd5d077-d2fb-4c56-d0f0-c302ec7976f6"
      },
      "execution_count": null,
      "outputs": [
        {
          "output_type": "stream",
          "name": "stderr",
          "text": [
            "WARNING:absl:Compiled the loaded model, but the compiled metrics have yet to be built. `model.compile_metrics` will be empty until you train or evaluate the model.\n"
          ]
        }
      ]
    },
    {
      "cell_type": "markdown",
      "source": [
        "### Cargar y procesar datos de prueba"
      ],
      "metadata": {
        "id": "SHB-T6etYvFk"
      }
    },
    {
      "cell_type": "code",
      "source": [
        "test_dir = '/content/dataset/TEST'"
      ],
      "metadata": {
        "id": "el6rdM2acju6"
      },
      "execution_count": null,
      "outputs": []
    },
    {
      "cell_type": "code",
      "source": [
        "def create_test_dataframe(test_dir):\n",
        "    image_paths = []\n",
        "    labels = []\n",
        "    for class_name in ['B', 'N']:\n",
        "        class_path = os.path.join(test_dir, class_name)\n",
        "        if not os.path.exists(class_path):\n",
        "            continue\n",
        "        for root, _, files in os.walk(class_path):\n",
        "            for file in files:\n",
        "                if file.lower().endswith(('.png', '.jpg', '.jpeg')):\n",
        "                    image_paths.append(os.path.join(root, file))\n",
        "                    labels.append(class_name)\n",
        "    return pd.DataFrame({'filename': image_paths, 'class': labels})\n",
        "\n",
        "# Crear el DataFrame de prueba\n",
        "test_df = create_test_dataframe(test_dir)\n",
        "\n",
        "# Verifica el resultado\n",
        "print(test_df.sample(5))\n",
        "print(f\"Total de imágenes de prueba: {len(test_df)}\")\n",
        "print(test_df['class'].value_counts())"
      ],
      "metadata": {
        "colab": {
          "base_uri": "https://localhost:8080/"
        },
        "id": "4QieubhzWTxr",
        "outputId": "7d237ddf-b455-45e2-bc0a-f5290b72adc0"
      },
      "execution_count": null,
      "outputs": [
        {
          "output_type": "stream",
          "name": "stdout",
          "text": [
            "                                                filename class\n",
            "15547  /content/dataset/TEST/N/TEST_NBIODEG_ORI_7016.jpg     N\n",
            "10134  /content/dataset/TEST/N/TEST_NBIODEG_ORI_4140.jpg     N\n",
            "11112  /content/dataset/TEST/N/TEST_NBIODEG_ORI_1010.jpg     N\n",
            "11132  /content/dataset/TEST/N/TEST_NBIODEG_ORI_3468.jpg     N\n",
            "6100    /content/dataset/TEST/B/TEST_BIODEG_ROT_1781.jpg     B\n",
            "Total de imágenes de prueba: 16726\n",
            "class\n",
            "B    8363\n",
            "N    8363\n",
            "Name: count, dtype: int64\n"
          ]
        }
      ]
    },
    {
      "cell_type": "code",
      "source": [
        "test_datagen = ImageDataGenerator(preprocessing_function=preprocess_input)\n",
        "test_generator = test_datagen.flow_from_dataframe(\n",
        "    dataframe=test_df,\n",
        "    x_col='filename',\n",
        "    y_col='class',\n",
        "    target_size=(224, 224),\n",
        "    batch_size=32,\n",
        "    class_mode='categorical',\n",
        "    shuffle=False  # Importante para mantener el orden\n",
        ")"
      ],
      "metadata": {
        "colab": {
          "base_uri": "https://localhost:8080/"
        },
        "id": "iXUe2qYRdB40",
        "outputId": "389a7908-1c97-42a7-d414-25f9f643d9bd"
      },
      "execution_count": null,
      "outputs": [
        {
          "output_type": "stream",
          "name": "stdout",
          "text": [
            "Found 16726 validated image filenames belonging to 2 classes.\n"
          ]
        }
      ]
    },
    {
      "cell_type": "code",
      "source": [
        "print(\"Distribución de clases en el generador de validación:\")\n",
        "print(np.unique(test_generator.classes, return_counts=True))"
      ],
      "metadata": {
        "id": "SaJ4mFO0fQGO",
        "outputId": "8d686dfd-4740-4f47-ffa8-911a5b92721f",
        "colab": {
          "base_uri": "https://localhost:8080/"
        }
      },
      "execution_count": null,
      "outputs": [
        {
          "output_type": "stream",
          "name": "stdout",
          "text": [
            "Distribución de clases en el generador de validación:\n",
            "(array([0, 1]), array([8363, 8363]))\n"
          ]
        }
      ]
    },
    {
      "cell_type": "markdown",
      "source": [
        "### Predicciones"
      ],
      "metadata": {
        "id": "EpDenWqoYw2g"
      }
    },
    {
      "cell_type": "code",
      "source": [
        "predictions = model.predict(test_generator)\n",
        "y_pred = np.argmax(predictions, axis=1)\n",
        "y_true = test_generator.classes\n",
        "\n",
        "# Accuracy\n",
        "from sklearn.metrics import accuracy_score, classification_report, confusion_matrix\n",
        "acc = accuracy_score(y_true, y_pred)\n",
        "print(f\"Accuracy en validación: {acc:.4f}\")\n",
        "\n",
        "# Reporte completo\n",
        "print(\"\\nReporte de clasificación:\")\n",
        "print(classification_report(y_true, y_pred, target_names=list(test_generator.class_indices.keys())))\n"
      ],
      "metadata": {
        "colab": {
          "base_uri": "https://localhost:8080/"
        },
        "id": "uUWunBAdQX59",
        "outputId": "a3364070-9df0-49a3-93d8-8d8e022b65a3"
      },
      "execution_count": null,
      "outputs": [
        {
          "output_type": "stream",
          "name": "stderr",
          "text": [
            "/usr/local/lib/python3.11/dist-packages/keras/src/trainers/data_adapters/py_dataset_adapter.py:121: UserWarning: Your `PyDataset` class should call `super().__init__(**kwargs)` in its constructor. `**kwargs` can include `workers`, `use_multiprocessing`, `max_queue_size`. Do not pass these arguments to `fit()`, as they will be ignored.\n",
            "  self._warn_if_super_not_called()\n"
          ]
        },
        {
          "output_type": "stream",
          "name": "stdout",
          "text": [
            "\u001b[1m523/523\u001b[0m \u001b[32m━━━━━━━━━━━━━━━━━━━━\u001b[0m\u001b[37m\u001b[0m \u001b[1m65s\u001b[0m 107ms/step\n",
            "Accuracy en validación: 0.9249\n",
            "\n",
            "Reporte de clasificación:\n",
            "              precision    recall  f1-score   support\n",
            "\n",
            "           B       0.98      0.87      0.92      8363\n",
            "           N       0.88      0.98      0.93      8363\n",
            "\n",
            "    accuracy                           0.92     16726\n",
            "   macro avg       0.93      0.92      0.92     16726\n",
            "weighted avg       0.93      0.92      0.92     16726\n",
            "\n"
          ]
        }
      ]
    },
    {
      "cell_type": "markdown",
      "source": [
        "**La precision**: indica el porcentaje de veces que el modelo predijo correctamente una clase entre todas las veces que predijo esa clase.\n",
        "\n",
        "**El recall**: mide la capacidad del modelo para encontrar todos los casos reales de una clase.\n",
        "\n",
        "**El f1-score**: es una métrica balanceada que combina precision y recall, útil cuando hay que encontrar un equilibrio entre falsos positivos y falsos negativos.\n",
        "\n",
        "**El support**: representa la cantidad de ejemplos reales de cada clase utilizados para evaluar el modelo, siendo 8363 para ambas.\n",
        "\n",
        "**La accuracy global**: del modelo es del 92%, lo que significa que acertó en 92 de cada 100 predicciones. Por otro lado, las métricas macro avg y weighted avg promedian los resultados de ambas clases: la macro lo hace de forma uniforme, sin importar cuántos ejemplos haya de cada clase, y la weighted toma en cuenta la cantidad de datos por clase. Ambas coinciden en valores similares (precision: 0.93, recall: 0.92, f1-score: 0.92), lo que sugiere que el modelo es consistente en su rendimiento."
      ],
      "metadata": {
        "id": "Uth06Lp9iC8s"
      }
    },
    {
      "cell_type": "markdown",
      "source": [
        "### Matriz de confusión"
      ],
      "metadata": {
        "id": "BnA-58l2Z5nV"
      }
    },
    {
      "cell_type": "code",
      "source": [
        "cm = confusion_matrix(y_true, y_pred)\n",
        "sns.heatmap(cm, annot=True, fmt='d', cmap='Blues', xticklabels=test_generator.class_indices.keys(), yticklabels=test_generator.class_indices.keys())\n",
        "plt.xlabel('Predicción')\n",
        "plt.ylabel('Real')\n",
        "plt.title('Matriz de Confusión')\n",
        "plt.show()"
      ],
      "metadata": {
        "colab": {
          "base_uri": "https://localhost:8080/",
          "height": 472
        },
        "id": "U8yUeCHWZ4ya",
        "outputId": "e1fcfad1-399a-4dc4-83a9-1e08fb9ce475"
      },
      "execution_count": null,
      "outputs": [
        {
          "output_type": "display_data",
          "data": {
            "text/plain": [
              "<Figure size 640x480 with 2 Axes>"
            ],
            "image/png": "[encoded data removed]"
          },
          "metadata": {}
        }
      ]
    },
    {
      "cell_type": "markdown",
      "source": [
        "### Prueba Roc y AUC"
      ],
      "metadata": {
        "id": "YF7XwJJqjNwA"
      }
    },
    {
      "cell_type": "markdown",
      "source": [
        "❓ ¿Por qué hay errores si el AUC es alto?\n",
        "\n",
        "Porque **ningún modelo es perfecto**. Aunque el AUC (Área bajo la curva ROC) sea alto, el modelo aún puede confundirse en ciertos casos. El AUC nos indica el rendimiento promedio del modelo para distinguir entre clases, pero no garantiza que todos los casos serán clasificados correctamente.\n",
        "\n",
        "> **\"Tu modelo, en promedio, es muy bueno discriminando entre ambas clases.\"**\n",
        "\n",
        "---\n",
        "\n",
        " 📊 Interpretación del AUC:\n",
        "\n",
        "- **AUC = 1.0** → Modelo perfecto.  \n",
        "- **AUC entre 0.9 y 0.99** → Excelente rendimiento.  \n",
        "- **AUC entre 0.8 y 0.9** → Buen rendimiento.  \n",
        "- **AUC ≈ 0.5** → No mejor que el azar.\n",
        "\n",
        "---\n",
        "\n",
        " ⚽ Analogía:\n",
        "\n",
        "Imagina que el modelo es un **portero en un equipo de fútbol**.  \n",
        "El AUC mide **qué tan buen portero es en promedio**, es decir, cuántos tiros detiene correctamente.\n",
        "\n",
        "Sin embargo, eso **no significa que nunca le metan goles**.  \n",
        "Solo indica que, en la mayoría de los casos, **hace bien su trabajo**.\n",
        "\n",
        "Así funciona el modelo: puede tener un AUC excelente y aún cometer errores puntuales.\n"
      ],
      "metadata": {
        "id": "YzpoZwAdaaqZ"
      }
    },
    {
      "cell_type": "code",
      "source": [
        "test_generator.reset()\n",
        "y_true = test_generator.classes\n",
        "y_scores = model.predict(test_generator, steps=len(test_generator))\n",
        "\n",
        "y_scores = y_scores[:, 1]  # Probabilidad de pertenecer a la clase 1"
      ],
      "metadata": {
        "id": "xpASSeAil_K_",
        "colab": {
          "base_uri": "https://localhost:8080/"
        },
        "outputId": "e53cfecd-ca1c-43da-e4ce-0df1eb608206"
      },
      "execution_count": null,
      "outputs": [
        {
          "output_type": "stream",
          "name": "stdout",
          "text": [
            "\u001b[1m523/523\u001b[0m \u001b[32m━━━━━━━━━━━━━━━━━━━━\u001b[0m\u001b[37m\u001b[0m \u001b[1m53s\u001b[0m 101ms/step\n"
          ]
        }
      ]
    },
    {
      "cell_type": "code",
      "source": [
        "fpr, tpr, thresholds = roc_curve(y_true, y_scores)\n",
        "roc_auc = auc(fpr, tpr)\n",
        "\n",
        "print(f\"AUC: {roc_auc:.4f}\")"
      ],
      "metadata": {
        "id": "W1ooh8-JmHhM",
        "colab": {
          "base_uri": "https://localhost:8080/"
        },
        "outputId": "499f05de-69a7-4261-ba3e-87b3513a25a7"
      },
      "execution_count": null,
      "outputs": [
        {
          "output_type": "stream",
          "name": "stdout",
          "text": [
            "AUC: 0.9846\n"
          ]
        }
      ]
    },
    {
      "cell_type": "code",
      "source": [
        "plt.figure(figsize=(8, 6))\n",
        "plt.plot(fpr, tpr, color='darkorange', lw=2, label=f'ROC curve (AUC = {roc_auc:.2f})')\n",
        "plt.plot([0, 1], [0, 1], color='navy', lw=2, linestyle='--')  # Línea de referencia (azar)\n",
        "plt.xlim([0.0, 1.0])\n",
        "plt.ylim([0.0, 1.05])\n",
        "plt.xlabel('False Positive Rate (FPR)')\n",
        "plt.ylabel('True Positive Rate (TPR)')\n",
        "plt.title('Receiver Operating Characteristic (ROC) Curve')\n",
        "plt.legend(loc=\"lower right\")\n",
        "plt.show()"
      ],
      "metadata": {
        "colab": {
          "base_uri": "https://localhost:8080/",
          "height": 564
        },
        "id": "FnXXCL02jQgb",
        "outputId": "cd61f00a-d6e9-490e-a0ab-881d9bfd3202"
      },
      "execution_count": null,
      "outputs": [
        {
          "output_type": "display_data",
          "data": {
            "text/plain": [
              "<Figure size 800x600 with 1 Axes>"
            ],
            "image/png": "[encoded data removed]"
          },
          "metadata": {}
        }
      ]
    },
    {
      "cell_type": "markdown",
      "source": [
        "## **Conclusión:**\n",
        "\n",
        "El modelo de clasificación basado en **ResNet50** ha demostrado un rendimiento excelente en pruebas controladas, alcanzando métricas superiores al 98 % de precisión y un AUC de 0.9846. Sin embargo, si se presentan errores en la clasificación en tiempo real, es importante considerar que estos no se deben necesariamente a fallos del modelo, sino a factores externos como los siguientes:\n",
        "\n",
        "\n",
        "*   **Calidad de la cámara**: Cámaras con baja resolución, sensores deficientes o enfoque incorrecto pueden comprometer la claridad de los objetos a clasificar.\n",
        "*   **Condiciones de iluminación**: Iluminación inconsistente, sombras, reflejos o luz insuficiente pueden alterar los colores y texturas percibidos por la IA, afectando la predicción.\n",
        "*   **Ángulo de visión**: Si el objeto no se encuentra completamente centrado o se presenta en una orientación distinta a las vistas del entrenamiento, el modelo puede obtener información incompleta.\n",
        "*   **Captura del frame en mal momento**: Si la imagen es capturada mientras el objeto está en movimiento o parcialmente visible, la predicción puede no ser precisa.\n",
        "*   **Contexto diferente al entrenamiento**: El modelo fue entrenado con imágenes limpias, bien centradas y bajo condiciones controladas. Su desempeño puede disminuir si el entorno real difiere sustancialmente.\n",
        "\n",
        "Recomendación: Para un funcionamiento óptimo del sistema, se sugiere utilizar una cámara de al menos 5 MP con enfoque fijo, iluminación uniforme (idealmente mediante LEDs), y posicionar la cámara en un ángulo constante que asegure una vista clara del objeto. Además, implementar un retardo de 3–5 segundos antes de capturar la imagen permite asegurar que el objeto esté bien posicionado.\n",
        "\n",
        "En caso de que el sistema continúe fallando aún con una cámara mejor y condiciones óptimas, se procederá a una revisión profunda del dataset utilizado para entrenar el modelo, con el fin de detectar posibles sesgos, clases mal etiquetadas, desbalance oculto o imágenes poco representativas del entorno real."
      ],
      "metadata": {
        "id": "j9bb0GOjbjUy"
      }
    }
  ]
}